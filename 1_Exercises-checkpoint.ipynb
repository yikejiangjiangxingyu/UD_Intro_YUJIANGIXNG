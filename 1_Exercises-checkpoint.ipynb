{
 "cells": [
  {
   "cell_type": "markdown",
   "id": "38e188a5",
   "metadata": {},
   "source": [
    "# Exercise 00\n",
    "Write a piece of code that allocates a list of 20 integers and initializes each element by its index multiplied by 5. Print the result."
   ]
  },
  {
   "cell_type": "code",
   "execution_count": 3,
   "id": "01aa4f35",
   "metadata": {},
   "outputs": [
    {
     "name": "stdout",
     "output_type": "stream",
     "text": [
      "[0, 5, 10, 15, 20, 25, 30, 35, 40, 45, 50, 55, 60, 65, 70, 75, 80, 85, 90, 95]\n"
     ]
    }
   ],
   "source": [
    "myList = []\n",
    "for \n",
    "in range(0,20):\n",
    "    myList.append(i*5)\n",
    "print(myList)"
   ]
  },
  {
   "cell_type": "markdown",
   "id": "529d91ae",
   "metadata": {},
   "source": [
    "# Exercise 01\n",
    "Define a function that takes an integer as input, prints  all integers that it is divisable by, and returns the largest one."
   ]
  },
  {
   "cell_type": "code",
   "execution_count": null,
   "id": "30e79132",
   "metadata": {},
   "outputs": [],
   "source": [
    "def my_function():\n",
    "    for i in range()\n",
    "    int(n//2=0)"
   ]
  },
  {
   "cell_type": "markdown",
   "id": "cfbe30d4",
   "metadata": {},
   "source": [
    "# Exercise 02\n",
    "- create a dictionary with 6 keys and values of your choice\n",
    "- write a function that takes a dictionary and a value as input and returns whether the value occurs as a key in the dictionary\n",
    "- write a function that takes a dictionary as input, and returns the dictionary but the keys are swapped with their values (resolve the issue if a value occurs twice!)"
   ]
  },
  {
   "cell_type": "code",
   "execution_count": 6,
   "id": "2123f1c6",
   "metadata": {},
   "outputs": [
    {
     "ename": "SyntaxError",
     "evalue": "invalid syntax (469069096.py, line 1)",
     "output_type": "error",
     "traceback": [
      "\u001b[1;36m  Cell \u001b[1;32mIn[6], line 1\u001b[1;36m\u001b[0m\n\u001b[1;33m    British Museum={'name':'British Museum','type':'Museum,year:1753','location:in the Bloomsbury area of London,collection':'8 million items','image':'https://zh.wikipedia.org/zh-hans/%E5%A4%A7%E8%8B%B1%E5%8D%9A%E7%89%A9%E9%A6%86#/media/File:British_Museum_(aerial).jpg'}\u001b[0m\n\u001b[1;37m            ^\u001b[0m\n\u001b[1;31mSyntaxError\u001b[0m\u001b[1;31m:\u001b[0m invalid syntax\n"
     ]
    }
   ],
   "source": [
    "British Museum={'name':'British Museum','type':'Museum,year:1753','location:in the Bloomsbury area of London,collection':'8 million items','image':'https://zh.wikipedia.org/zh-hans/%E5%A4%A7%E8%8B%B1%E5%8D%9A%E7%89%A9%E9%A6%86#/media/File:British_Museum_(aerial).jpg'}\n",
    "print(British Museum)"
   ]
  },
  {
   "cell_type": "code",
   "execution_count": null,
   "id": "daf7401a",
   "metadata": {},
   "outputs": [],
   "source": [
    "def get_swap_dict(d):\n",
    "    return {v: k for k, v in d.items()}"
   ]
  },
  {
   "cell_type": "markdown",
   "id": "b4b4e426",
   "metadata": {},
   "source": [
    "# Exercise 03\n",
    "Define a function that creates a dictionary of the first n fibonacci numbers as values paired with their indices as keys. "
   ]
  },
  {
   "cell_type": "code",
   "execution_count": null,
   "id": "7845b5a4",
   "metadata": {},
   "outputs": [],
   "source": []
  }
 ],
 "metadata": {
  "kernelspec": {
   "display_name": "Python 3 (ipykernel)",
   "language": "python",
   "name": "python3"
  },
  "language_info": {
   "codemirror_mode": {
    "name": "ipython",
    "version": 3
   },
   "file_extension": ".py",
   "mimetype": "text/x-python",
   "name": "python",
   "nbconvert_exporter": "python",
   "pygments_lexer": "ipython3",
   "version": "3.8.18"
  }
 },
 "nbformat": 4,
 "nbformat_minor": 5
}
