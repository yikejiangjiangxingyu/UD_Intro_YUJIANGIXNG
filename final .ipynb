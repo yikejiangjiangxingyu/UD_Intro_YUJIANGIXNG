{
 "cells": [
  {
   "cell_type": "code",
   "execution_count": 1,
   "id": "5bea957f",
   "metadata": {},
   "outputs": [
    {
     "name": "stdout",
     "output_type": "stream",
     "text": [
      "Requirement already satisfied: selenium in c:\\users\\yikej\\anaconda3\\lib\\site-packages (4.13.0)\n",
      "Requirement already satisfied: urllib3[socks]<3,>=1.26 in c:\\users\\yikej\\anaconda3\\lib\\site-packages (from selenium) (1.26.16)\n",
      "Requirement already satisfied: trio~=0.17 in c:\\users\\yikej\\anaconda3\\lib\\site-packages (from selenium) (0.22.2)\n",
      "Requirement already satisfied: trio-websocket~=0.9 in c:\\users\\yikej\\anaconda3\\lib\\site-packages (from selenium) (0.11.1)\n",
      "Requirement already satisfied: certifi>=2021.10.8 in c:\\users\\yikej\\anaconda3\\lib\\site-packages (from selenium) (2023.7.22)\n",
      "Requirement already satisfied: attrs>=20.1.0 in c:\\users\\yikej\\anaconda3\\lib\\site-packages (from trio~=0.17->selenium) (22.1.0)\n",
      "Requirement already satisfied: sortedcontainers in c:\\users\\yikej\\anaconda3\\lib\\site-packages (from trio~=0.17->selenium) (2.4.0)\n",
      "Requirement already satisfied: idna in c:\\users\\yikej\\anaconda3\\lib\\site-packages (from trio~=0.17->selenium) (3.4)\n",
      "Requirement already satisfied: outcome in c:\\users\\yikej\\anaconda3\\lib\\site-packages (from trio~=0.17->selenium) (1.2.0)\n",
      "Requirement already satisfied: sniffio in c:\\users\\yikej\\anaconda3\\lib\\site-packages (from trio~=0.17->selenium) (1.2.0)\n",
      "Requirement already satisfied: cffi>=1.14 in c:\\users\\yikej\\anaconda3\\lib\\site-packages (from trio~=0.17->selenium) (1.15.1)\n",
      "Requirement already satisfied: wsproto>=0.14 in c:\\users\\yikej\\anaconda3\\lib\\site-packages (from trio-websocket~=0.9->selenium) (1.2.0)\n",
      "Requirement already satisfied: PySocks!=1.5.7,<2.0,>=1.5.6 in c:\\users\\yikej\\anaconda3\\lib\\site-packages (from urllib3[socks]<3,>=1.26->selenium) (1.7.1)\n",
      "Requirement already satisfied: pycparser in c:\\users\\yikej\\anaconda3\\lib\\site-packages (from cffi>=1.14->trio~=0.17->selenium) (2.21)\n",
      "Requirement already satisfied: h11<1,>=0.9.0 in c:\\users\\yikej\\anaconda3\\lib\\site-packages (from wsproto>=0.14->trio-websocket~=0.9->selenium) (0.14.0)\n",
      "Note: you may need to restart the kernel to use updated packages.\n"
     ]
    }
   ],
   "source": [
    "pip install selenium"
   ]
  },
  {
   "cell_type": "code",
   "execution_count": 2,
   "id": "004b0012",
   "metadata": {},
   "outputs": [],
   "source": [
    "# Import Selenium and its sub libraries\n",
    "import selenium \n",
    "from selenium import webdriver\n",
    "from selenium.webdriver.common.by import By\n",
    "from selenium.webdriver.common.keys import Keys\n",
    "from selenium.webdriver.support.ui import Select\n",
    "from selenium.webdriver.support.ui import WebDriverWait\n",
    "from selenium.webdriver.support import expected_conditions as EC\n",
    "from time import sleep\n",
    "import re"
   ]
  },
  {
   "cell_type": "code",
   "execution_count": 2,
   "id": "83a910d3",
   "metadata": {},
   "outputs": [],
   "source": [
    "url=\"https://www.pinterest.com/\""
   ]
  },
  {
   "cell_type": "code",
   "execution_count": 3,
   "id": "dad3b73c",
   "metadata": {},
   "outputs": [],
   "source": [
    "picture_list = []\n",
    "style_list=[]\n",
    "link_list=[]\n",
    "pdf_list=[]"
   ]
  },
  {
   "cell_type": "code",
   "execution_count": null,
   "id": "4e43f205",
   "metadata": {},
   "outputs": [],
   "source": [
    "driver=webdriver.Chrome()\n",
    "driver.get(url)\n",
    "search_query=driver.find_element(\"name\",\"q\")\n",
    "search_query.send_keys('Antonio Gaudi')\n",
    "search_query.send_keys(Keys.RETURN)\n",
    "sleep(2)"
   ]
  },
  {
   "cell_type": "code",
   "execution_count": 9,
   "id": "a6a13eb1",
   "metadata": {},
   "outputs": [],
   "source": [
    "def extract_page_data(driver):\n",
    "    #Grab all books\n",
    "    article=driver.find_elements(\"class name\", \"searchResultItem\")\n",
    "    #print(len(books))\n",
    "\n",
    "    #Create loop to itterate on the list\n",
    "    for b in range(len(article)):\n",
    "        try:          \n",
    "            print(len(articles))\n",
    "for i in images:\n",
    "    try:\n",
    "        src = i.get('src')\n",
    "        print(src)\n",
    "        if src.endswith('.jpg'):\n",
    "        if src.startswith('http'):\n",
    "            jpg_url = src\n",
    "        else:\n",
    "            base_url = 'http:'  \n",
    "            jpg_url = base_url + src\n",
    "        print(jpg_url)\n",
    "    except:\n",
    "        pass\n",
    "driver.quit()\n",
    "                       \n",
    "            \n",
    "        # Not all items have pdf\n",
    "        try:\n",
    "            #Extraction of pdf\n",
    "            pdf= books[b].find_element(\"xpath\",'//*[@id=\"slick-slide12\"]/div[1]').get_attribute('href')\n",
    "            #print(pdf) \n",
    "            pdf_list.append(pdf)\n",
    "        except:\n",
    "            pdf_list.append(\"NONE\")\n",
    "            continue"
   ]
  },
  {
   "cell_type": "code",
   "execution_count": null,
   "id": "272cc274",
   "metadata": {},
   "outputs": [],
   "source": []
  }
 ],
 "metadata": {
  "kernelspec": {
   "display_name": "Python 3 (ipykernel)",
   "language": "python",
   "name": "python3"
  },
  "language_info": {
   "codemirror_mode": {
    "name": "ipython",
    "version": 3
   },
   "file_extension": ".py",
   "mimetype": "text/x-python",
   "name": "python",
   "nbconvert_exporter": "python",
   "pygments_lexer": "ipython3",
   "version": "3.11.5"
  }
 },
 "nbformat": 4,
 "nbformat_minor": 5
}
